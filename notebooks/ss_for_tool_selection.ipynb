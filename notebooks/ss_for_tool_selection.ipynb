{
 "cells": [
  {
   "cell_type": "markdown",
   "id": "b667940b",
   "metadata": {},
   "source": [
    "# Semantic Similarity for Tool Selection"
   ]
  },
  {
   "cell_type": "code",
   "execution_count": 2,
   "id": "809f679e",
   "metadata": {},
   "outputs": [],
   "source": [
    "from transformers.pipelines import pipeline"
   ]
  },
  {
   "cell_type": "code",
   "execution_count": null,
   "id": "415edd0b",
   "metadata": {},
   "outputs": [
    {
     "name": "stderr",
     "output_type": "stream",
     "text": [
      "Device set to use cuda:0\n"
     ]
    }
   ],
   "source": [
    "classifier = pipeline(\"zero-shot-classification\", model=\"../models/bart-large-mnli/\") # \"facebook/bart-large-mnli\"\n",
    "# classifier.save_pretrained(\"../models/bart-large-mnli/\")"
   ]
  },
  {
   "cell_type": "code",
   "execution_count": 66,
   "id": "075135bb",
   "metadata": {},
   "outputs": [],
   "source": [
    "sequence_to_classify = \"Mark the first task as complete\" # \"Add the following tasks: go for a run, do homework.\"\n",
    "candidate_labels = ['task creation', 'task modification', 'task deletion']"
   ]
  },
  {
   "cell_type": "code",
   "execution_count": 67,
   "id": "fb0cc5e2",
   "metadata": {},
   "outputs": [
    {
     "data": {
      "text/plain": [
       "{'sequence': 'Mark the first task as complete',\n",
       " 'labels': ['task modification', 'task creation', 'task deletion'],\n",
       " 'scores': [0.48940417170524597, 0.3878811299800873, 0.12271466851234436]}"
      ]
     },
     "execution_count": 67,
     "metadata": {},
     "output_type": "execute_result"
    }
   ],
   "source": [
    "classifier(sequence_to_classify, candidate_labels)"
   ]
  },
  {
   "cell_type": "code",
   "execution_count": 64,
   "id": "eddd7b71",
   "metadata": {},
   "outputs": [],
   "source": [
    "candidate_labels = [\"task related request\"]"
   ]
  },
  {
   "cell_type": "code",
   "execution_count": null,
   "id": "87ff63e9",
   "metadata": {},
   "outputs": [
    {
     "data": {
      "text/plain": [
       "{'sequence': 'Mark the first task as complete',\n",
       " 'labels': ['task related request'],\n",
       " 'scores': [0.8757263422012329]}"
      ]
     },
     "execution_count": 65,
     "metadata": {},
     "output_type": "execute_result"
    }
   ],
   "source": [
    "sequence_to_classify = \"Can you make tasks fall from the sky?\"\n",
    "# candidate_labels = ['create task', 'edit task', 'delete task']\n",
    "classifier(sequence_to_classify, candidate_labels)"
   ]
  }
 ],
 "metadata": {
  "kernelspec": {
   "display_name": ".venv",
   "language": "python",
   "name": "python3"
  },
  "language_info": {
   "codemirror_mode": {
    "name": "ipython",
    "version": 3
   },
   "file_extension": ".py",
   "mimetype": "text/x-python",
   "name": "python",
   "nbconvert_exporter": "python",
   "pygments_lexer": "ipython3",
   "version": "3.12.10"
  }
 },
 "nbformat": 4,
 "nbformat_minor": 5
}

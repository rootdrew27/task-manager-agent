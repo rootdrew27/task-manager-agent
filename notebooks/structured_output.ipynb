{
 "cells": [
  {
   "cell_type": "markdown",
   "id": "805c01f7",
   "metadata": {},
   "source": [
    "# Structured Output"
   ]
  },
  {
   "cell_type": "code",
   "execution_count": 3,
   "id": "838cd2e3",
   "metadata": {},
   "outputs": [],
   "source": [
    "from langchain_ollama import ChatOllama\n",
    "\n",
    "import datetime"
   ]
  },
  {
   "cell_type": "code",
   "execution_count": 7,
   "id": "1c543189",
   "metadata": {},
   "outputs": [],
   "source": [
    "llm = ChatOllama(\n",
    "    base_url=\"http://localhost:11434\",\n",
    "    model=\"llama3.2:3B\",\n",
    "    temperature=0,\n",
    "    keep_alive=\"30m\"\n",
    ")"
   ]
  },
  {
   "cell_type": "code",
   "execution_count": 5,
   "id": "b7987431",
   "metadata": {},
   "outputs": [],
   "source": [
    "from pydantic import BaseModel\n",
    "\n",
    "class CreateTask(BaseModel):\n",
    "    task_name: str\n",
    "    is_complete: bool | None\n",
    "    date: datetime.date | None"
   ]
  },
  {
   "cell_type": "code",
   "execution_count": 6,
   "id": "d5dac283",
   "metadata": {},
   "outputs": [],
   "source": [
    "struct_llm = llm.with_structured_output(CreateTask)"
   ]
  },
  {
   "cell_type": "code",
   "execution_count": null,
   "id": "5ffd6ad4",
   "metadata": {},
   "outputs": [],
   "source": [
    "# user_input = \"Add a task called do homework, and set its date as June 1st\"\n",
    "user_input = \"Can you make tasks fall from the sky?\"\n",
    "\n",
    "def mod_input(user_input):\n",
    "     return f\"Produce structured output for the request: {user_input}\" \n",
    "\n",
    "user_input = mod_input(user_input)"
   ]
  },
  {
   "cell_type": "code",
   "execution_count": 41,
   "id": "f57a9bf4",
   "metadata": {},
   "outputs": [
    {
     "data": {
      "text/plain": [
       "'Produce structured output for the request: Can you make a task fall from the sky?'"
      ]
     },
     "execution_count": 41,
     "metadata": {},
     "output_type": "execute_result"
    }
   ],
   "source": [
    "user_input"
   ]
  },
  {
   "cell_type": "code",
   "execution_count": 42,
   "id": "49d48d53",
   "metadata": {},
   "outputs": [],
   "source": [
    "output = struct_llm.invoke(user_input)"
   ]
  },
  {
   "cell_type": "code",
   "execution_count": 43,
   "id": "c93597f6",
   "metadata": {},
   "outputs": [
    {
     "data": {
      "text/plain": [
       "CreateTask(task_name='Fall from the Sky', is_complete=False, date=None)"
      ]
     },
     "execution_count": 43,
     "metadata": {},
     "output_type": "execute_result"
    }
   ],
   "source": [
    "output"
   ]
  }
 ],
 "metadata": {
  "kernelspec": {
   "display_name": ".venv",
   "language": "python",
   "name": "python3"
  },
  "language_info": {
   "codemirror_mode": {
    "name": "ipython",
    "version": 3
   },
   "file_extension": ".py",
   "mimetype": "text/x-python",
   "name": "python",
   "nbconvert_exporter": "python",
   "pygments_lexer": "ipython3",
   "version": "3.12.10"
  }
 },
 "nbformat": 4,
 "nbformat_minor": 5
}

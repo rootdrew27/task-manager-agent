{
 "cells": [
  {
   "cell_type": "markdown",
   "id": "2f188aee",
   "metadata": {},
   "source": [
    "# Semantic Similarity Example Selection"
   ]
  },
  {
   "cell_type": "code",
   "execution_count": 1,
   "id": "0920efb9",
   "metadata": {},
   "outputs": [],
   "source": [
    "from langchain_core.example_selectors.semantic_similarity import SemanticSimilarityExampleSelector"
   ]
  },
  {
   "cell_type": "code",
   "execution_count": null,
   "id": "63f30291",
   "metadata": {},
   "outputs": [],
   "source": []
  }
 ],
 "metadata": {
  "kernelspec": {
   "display_name": ".venv",
   "language": "python",
   "name": "python3"
  },
  "language_info": {
   "codemirror_mode": {
    "name": "ipython",
    "version": 3
   },
   "file_extension": ".py",
   "mimetype": "text/x-python",
   "name": "python",
   "nbconvert_exporter": "python",
   "pygments_lexer": "ipython3",
   "version": "3.12.10"
  }
 },
 "nbformat": 4,
 "nbformat_minor": 5
}

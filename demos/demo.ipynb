{
 "cells": [
  {
   "cell_type": "code",
   "execution_count": 2,
   "id": "5787b856",
   "metadata": {},
   "outputs": [
    {
     "name": "stderr",
     "output_type": "stream",
     "text": [
      "/home/rootdrew27/Source/TaskManagerAgent/stt/.venv/lib/python3.12/site-packages/tqdm/auto.py:21: TqdmWarning: IProgress not found. Please update jupyter and ipywidgets. See https://ipywidgets.readthedocs.io/en/stable/user_install.html\n",
      "  from .autonotebook import tqdm as notebook_tqdm\n"
     ]
    }
   ],
   "source": [
    "from faster_whisper import WhisperModel"
   ]
  },
  {
   "cell_type": "code",
   "execution_count": 7,
   "id": "7ad59797",
   "metadata": {},
   "outputs": [
    {
     "data": {
      "text/plain": [
       "{'float32', 'int8', 'int8_float32'}"
      ]
     },
     "execution_count": 7,
     "metadata": {},
     "output_type": "execute_result"
    }
   ],
   "source": [
    "import ctranslate2\n",
    "ctranslate2.get_supported_compute_types(\"cuda\")"
   ]
  },
  {
   "cell_type": "code",
   "execution_count": 8,
   "id": "7f64400b",
   "metadata": {},
   "outputs": [],
   "source": [
    "model = WhisperModel(\"base.en\", device=\"cuda\", download_root=\"./models\", compute_type=\"float32\")"
   ]
  },
  {
   "cell_type": "code",
   "execution_count": 18,
   "id": "9d92969d",
   "metadata": {},
   "outputs": [],
   "source": [
    "segments, info = model.transcribe(\"./data/WI007clip.mp3\", beam_size=10)"
   ]
  },
  {
   "cell_type": "code",
   "execution_count": 10,
   "id": "3aa4300a",
   "metadata": {},
   "outputs": [
    {
     "name": "stdout",
     "output_type": "stream",
     "text": [
      "Detected language: en\n"
     ]
    }
   ],
   "source": [
    "print(\"Detected language:\", info.language)"
   ]
  },
  {
   "cell_type": "code",
   "execution_count": 19,
   "id": "11e206aa",
   "metadata": {},
   "outputs": [
    {
     "name": "stdout",
     "output_type": "stream",
     "text": [
      "[0.00s -> 6.14s]  So, we decided we had to put in a new well, and somebody asked me why I didn't get it\n",
      "[6.14s -> 7.14s]  which.\n",
      "[7.14s -> 8.14s]  And I didn't know what he was talking about.\n",
      "[8.14s -> 12.46s]  So, they said there's an old fella out here that which is wells, and he'll get you water\n",
      "[12.46s -> 13.46s]  every time.\n",
      "[13.46s -> 17.06s]  So, I said, okay, how much does he want?\n",
      "[17.06s -> 18.06s]  He wants 10 bucks.\n",
      "[18.06s -> 19.06s]  I said, bring him on.\n",
      "[19.06s -> 25.02s]  So, we brought this fella out, and he went through his maneuvers with his peach stick.\n",
      "[25.02s -> 27.42s]  I don't remember when I was a peach stick or a well.\n",
      "[27.42s -> 28.98s]  You used both, though.\n",
      "[28.98s -> 39.86s]  Now, either one, one works as good as the other, and he strikes a point where he hits\n",
      "[39.86s -> 40.86s]  water.\n",
      "[40.86s -> 49.02s]  He puts a stone down, and he goes down in that same line, and where he hits water again\n",
      "[49.02s -> 50.02s]  put another stone down.\n",
      "[50.02s -> 53.58s]  Then he goes at right angles with this, and he gets a stone over here, and a stone over\n",
      "[53.58s -> 57.22s]  here, and where these two lines cross, that's the point.\n",
      "[57.22s -> 63.26s]  The veins, he said these water veins always run on an angle.\n",
      "[63.26s -> 66.66s]  Never do north and south or east and west, or northwest, southeast.\n"
     ]
    }
   ],
   "source": [
    "try:\n",
    "    for segment in segments:\n",
    "        print(f\"[{segment.start:.2f}s -> {segment.end:.2f}s] {segment.text}\", flush=True)\n",
    "except Exception as e:\n",
    "    print(\"Error:\", e)"
   ]
  },
  {
   "cell_type": "code",
   "execution_count": 2,
   "id": "10d7cf78",
   "metadata": {},
   "outputs": [
    {
     "name": "stdout",
     "output_type": "stream",
     "text": [
      "Device 0: HDA Intel PCH: ALC1150 Analog (hw:0,0) (Channels: 2)\n",
      "Device 2: HDA Intel PCH: ALC1150 Alt Analog (hw:0,2) (Channels: 2)\n",
      "Device 3: USB 2.0 Camera: Audio (hw:1,0) (Channels: 1)\n",
      "Device 8: sysdefault (Channels: 128)\n",
      "Device 18: samplerate (Channels: 128)\n",
      "Device 19: speexrate (Channels: 128)\n",
      "Device 20: pulse (Channels: 32)\n",
      "Device 21: upmix (Channels: 8)\n",
      "Device 22: vdownmix (Channels: 6)\n",
      "Device 24: default (Channels: 32)\n"
     ]
    }
   ],
   "source": [
    "import pyaudio\n",
    "\n",
    "p = pyaudio.PyAudio()\n",
    "for i in range(p.get_device_count()):\n",
    "    info = p.get_device_info_by_index(i)\n",
    "    if info['maxInputChannels'] > 0:\n",
    "        print(f\"Device {i}: {info['name']} (Channels: {info['maxInputChannels']})\")\n",
    "\n"
   ]
  }
 ],
 "metadata": {
  "kernelspec": {
   "display_name": ".venv",
   "language": "python",
   "name": "python3"
  },
  "language_info": {
   "codemirror_mode": {
    "name": "ipython",
    "version": 3
   },
   "file_extension": ".py",
   "mimetype": "text/x-python",
   "name": "python",
   "nbconvert_exporter": "python",
   "pygments_lexer": "ipython3",
   "version": "3.12.10"
  }
 },
 "nbformat": 4,
 "nbformat_minor": 5
}

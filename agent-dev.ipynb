{
 "cells": [
  {
   "cell_type": "code",
   "execution_count": 62,
   "id": "9ae6c7ad",
   "metadata": {},
   "outputs": [],
   "source": [
    "from typing import Annotated, TypedDict\n",
    "\n",
    "from langchain_core.prompts.chat import ChatPromptTemplate\n",
    "from langchain_core.messages import HumanMessage, BaseMessage, AIMessage, ToolMessage\n",
    "from langchain_core.tools import tool\n",
    "from langchain_ollama import ChatOllama\n",
    "\n",
    "from langgraph.graph import StateGraph, START, END\n",
    "from langgraph.types import Command, interrupt\n",
    "from langgraph.graph.message import add_messages\n",
    "from langgraph.prebuilt import ToolNode"
   ]
  },
  {
   "cell_type": "code",
   "execution_count": 63,
   "id": "90c3b2c1",
   "metadata": {},
   "outputs": [],
   "source": [
    "class State(TypedDict):\n",
    "    messages: Annotated[list, add_messages]\n",
    "    user_input: str"
   ]
  },
  {
   "cell_type": "code",
   "execution_count": 64,
   "id": "4443645e",
   "metadata": {},
   "outputs": [],
   "source": [
    "router_prompt = ChatPromptTemplate.from_messages(\n",
    "    [\n",
    "        (\n",
    "            \"system\",\n",
    "            \"You are a routing system that determines what type of request a user makes and the requirements needed to complete the request.\"\n",
    "            \"You have access to the following tools: create_tool, delete_tool.\" # edit_tool\n",
    "            # \"If the user requests to get, see, or view one or more tasks, you will use get_tool. An example of a user request that meets this criteria is 'What are my tasks'.\"\n",
    "            # \"If the user requests to modify, change, or edit one or more tasks, you will use the edit tool. An example request that meets this criteria is 'Change my \\\"clean room\\\" task to \\\"clean bathroom\\\"'.\"\n",
    "            \"If the user requests to create, make, or add one or more tasks, you will use create_tool. Example requests that meet this critera include: 'Create a \\\"Clean Room\\\" task.', 'Create the following tasks: \\\"Change oil\\\", \\\"Go for a run\\\", and \\\"Check email\\\"'.\"\n",
    "            \"If the user requests to delete, remove, or cancel one or more tasks, you will use the delete_tool. Examples of requests that meet this criteria include 'Delete my \\\"Change oil\\\" task.', 'Delete the following tasks: \\\"Replace lightbuild\\\" and \\\"Eat leftovers\\\"'.\"\n",
    "            \"If the user requests anything unrelated to their tasks you will NOT use a tool. An example request that meets this criteria is 'Why is the sky blue?'.\"\n",
    "        ),\n",
    "        (\"user\", \"{user_input}\")\n",
    "    ]\n",
    ")\n",
    "\n",
    "assistant_prompt = ChatPromptTemplate.from_messages(\n",
    "    [\n",
    "        (\n",
    "            \"system\",\n",
    "            \"You are a helpful and concise assistant that aids in the usage of a task management application.\"\n",
    "            \"You use the information given to you and relay that information to the user in the briefest manner possible.\"\n",
    "        ),\n",
    "        (\"placeholder\", \"{messages}\")\n",
    "    ]\n",
    ")"
   ]
  },
  {
   "cell_type": "code",
   "execution_count": 96,
   "id": "a7ddfb57",
   "metadata": {},
   "outputs": [],
   "source": [
    "tasks = {\"Clean Room\": {\"complete\": False}, \"Change Oil\": {\"complete\": False}}"
   ]
  },
  {
   "cell_type": "code",
   "execution_count": 97,
   "id": "b6fc81ff",
   "metadata": {},
   "outputs": [],
   "source": [
    "# @tool(\"get_tool\", parse_docstring=True)\n",
    "# def get():\n",
    "#     \"\"\"Retrieve the user's tasks.\"\"\"\n",
    "#     return tasks\n",
    "\n",
    "@tool(\"create_tool\", parse_docstring=True)\n",
    "def create(task_names: list[str]):\n",
    "    \"\"\"Create one or more new tasks.\n",
    "\n",
    "    Args:\n",
    "        task_names (str): The names of the tasks to create.\n",
    "    \"\"\"\n",
    "    print(f\"Tasks being created: {task_names}\")\n",
    "    for task_name in task_names:\n",
    "        tasks[task_name] = {\"complete\": False}\n",
    "        \n",
    "\n",
    "@tool(\"delete_tool\", parse_docstring=True)\n",
    "def delete(task_names: list[str]):\n",
    "    \"\"\"Delete one or more tasks.\n",
    "\n",
    "    Args:\n",
    "        task_names (list[str]): The names of the tasks to delete.\n",
    "    \"\"\"\n",
    "    print(f\"Tasks being deleted: {task_names}\")\n",
    "    for task_name in task_names:\n",
    "        tasks.pop(task_name)\n",
    "\n",
    "# @tool(\"edit_tool\", parse_docstring=True)\n",
    "# def edit(task_name: str):\n",
    "#     \"\"\"Edit one or more of the user's tasks.\n",
    "\n",
    "#     Args:\n",
    "#         task_name (str): The name of the task\n",
    "#     \"\"\"\n",
    "\n",
    "tools = [delete, create]"
   ]
  },
  {
   "cell_type": "code",
   "execution_count": null,
   "id": "c3bea824",
   "metadata": {},
   "outputs": [],
   "source": [
    "router_llm = ChatOllama(\n",
    "    base_url=\"http://localhost:11434\",\n",
    "    model=\"llama3-groq-tool-use:8b\",\n",
    "    temperature=0,\n",
    "    keep_alive=\"15m\" \n",
    ").bind_tools(tools)\n",
    "\n",
    "assistant_llm = ChatOllama(\n",
    "    base_url=\"http://localhost:11434\",\n",
    "    model=\"gemma3:4b-it-qat\",\n",
    "    temperature=0,\n",
    "    keep_alive=\"10m\" \n",
    ")"
   ]
  },
  {
   "cell_type": "code",
   "execution_count": 71,
   "id": "b0fe858c",
   "metadata": {},
   "outputs": [],
   "source": [
    "# if using a routing node (that checks if the request is related to tasks using a SSM) use the Command object either route to the tool-calling agent, or to a responding llm."
   ]
  },
  {
   "cell_type": "code",
   "execution_count": 99,
   "id": "879a606a",
   "metadata": {},
   "outputs": [],
   "source": [
    "def tool_router(state: State):\n",
    "    if messages := state.get(\"messages\", []):\n",
    "        ai_message = messages[-1]\n",
    "        assert isinstance(ai_message, AIMessage), \"AIMessage required here.\"\n",
    "    else:\n",
    "        raise ValueError(\"Messages required here.\")\n",
    "    \n",
    "    if hasattr(ai_message, \"tool_calls\") and len(ai_message.tool_calls) > 0:\n",
    "        return \"tools\"\n",
    "    else:\n",
    "        return \"responder\""
   ]
  },
  {
   "cell_type": "code",
   "execution_count": 100,
   "id": "0a3cb16e",
   "metadata": {},
   "outputs": [],
   "source": [
    "def invalid_request(state: State):\n",
    "    return {\"messages\": [\"Invalid Request\"]}\n",
    "\n",
    "def responder(state: State):\n",
    "    if messages := state.get(\"messages\", []):\n",
    "        message = messages[-1]\n",
    "    else:\n",
    "        raise ValueError(\"Messages required here.\")\n",
    "    if isinstance(message, ToolMessage):\n",
    "        tool_name = message.name\n",
    "        print(f\"The {tool_name} was executed.\")\n",
    "        if tool_name == \"create_tool\":\n",
    "            return {\"messages\": [\"One or more tasks were created.\"]}\n",
    "        elif tool_name == \"get_tool\":\n",
    "            return {\"messages\": [\"One or more tasks were deleted.\"]}\n",
    "\n",
    "    else:\n",
    "        return {\"messages\": [\"Invalid Request.\"]}"
   ]
  },
  {
   "cell_type": "code",
   "execution_count": 101,
   "id": "e85a33c5",
   "metadata": {},
   "outputs": [],
   "source": [
    "def router_agent(state: State):\n",
    "    prompt = router_prompt.invoke({\"user_input\": state[\"user_input\"]})\n",
    "    return {\"messages\": [router_llm.invoke(prompt)]}"
   ]
  },
  {
   "cell_type": "code",
   "execution_count": 102,
   "id": "fdbc3e38",
   "metadata": {},
   "outputs": [],
   "source": [
    "graph_builder = StateGraph(State)\n",
    "\n",
    "graph_builder.add_node(\"router\", router_agent)\n",
    "graph_builder.add_node(\"tools\", ToolNode(tools))\n",
    "graph_builder.add_node(\"responder\", responder)\n",
    "#graph_builder.add_node(\"invalid_request\", invalid_request)\n",
    "\n",
    "graph_builder.add_edge(START, \"router\")\n",
    "graph_builder.add_conditional_edges(\"router\", tool_router, {\"tools\": \"tools\", \"responder\": \"responder\"})\n",
    "graph_builder.add_edge(\"tools\", \"responder\")\n",
    "graph_builder.add_edge(\"responder\", END)\n",
    "\n",
    "graph = graph_builder.compile()"
   ]
  },
  {
   "cell_type": "code",
   "execution_count": 105,
   "id": "0883b3a1",
   "metadata": {},
   "outputs": [
    {
     "name": "stdout",
     "output_type": "stream",
     "text": [
      "{'router': {'messages': [AIMessage(content='', additional_kwargs={}, response_metadata={'model': 'llama3-groq-tool-use:8b', 'created_at': '2025-05-30T19:32:13.248703649Z', 'done': True, 'done_reason': 'stop', 'total_duration': 9956385665, 'load_duration': 20281045, 'prompt_eval_count': 412, 'prompt_eval_duration': 1956291485, 'eval_count': 37, 'eval_duration': 7977286580, 'model_name': 'llama3-groq-tool-use:8b'}, id='run--9db5d3a4-314d-481d-b675-5a465107b7c1-0', tool_calls=[{'name': 'delete_tool', 'args': {'task_names': ['Go for a run', 'Change lightbulbs']}, 'id': '245877a4-3c76-4196-b4f0-05d2bde907f5', 'type': 'tool_call'}], usage_metadata={'input_tokens': 412, 'output_tokens': 37, 'total_tokens': 449})]}}\n",
      "Tasks being deleted: ['Go for a run', 'Change lightbulbs']\n",
      "{'tools': {'messages': [ToolMessage(content='null', name='delete_tool', id='5a57d4ff-3450-43d0-8318-8d6921d28e77', tool_call_id='245877a4-3c76-4196-b4f0-05d2bde907f5')]}}\n",
      "The delete_tool was executed.\n",
      "{'responder': None}\n"
     ]
    }
   ],
   "source": [
    "events = graph.stream({\"user_input\": \"Delete the tasks: 'Go for a run' and 'Change lightbulbs'.\"}, stream_mode=\"updates\")\n",
    "\n",
    "for event in events:\n",
    "    print(event)"
   ]
  },
  {
   "cell_type": "code",
   "execution_count": 106,
   "id": "b001b7b8",
   "metadata": {},
   "outputs": [
    {
     "data": {
      "text/plain": [
       "{'Clean Room': {'complete': False}, 'Change Oil': {'complete': False}}"
      ]
     },
     "execution_count": 106,
     "metadata": {},
     "output_type": "execute_result"
    }
   ],
   "source": [
    "tasks"
   ]
  }
 ],
 "metadata": {
  "kernelspec": {
   "display_name": ".venv",
   "language": "python",
   "name": "python3"
  },
  "language_info": {
   "codemirror_mode": {
    "name": "ipython",
    "version": 3
   },
   "file_extension": ".py",
   "mimetype": "text/x-python",
   "name": "python",
   "nbconvert_exporter": "python",
   "pygments_lexer": "ipython3",
   "version": "3.12.10"
  }
 },
 "nbformat": 4,
 "nbformat_minor": 5
}
